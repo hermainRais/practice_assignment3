{
 "cells": [
  {
   "cell_type": "markdown",
   "metadata": {},
   "source": [
    "# Q1:"
   ]
  },
  {
   "cell_type": "markdown",
   "metadata": {},
   "source": [
    "Think of at least three kinds of your favorite pizza. Store these pizza names in a list, and then use a for loop to print the name of each pizza."
   ]
  },
  {
   "cell_type": "code",
   "execution_count": 13,
   "metadata": {},
   "outputs": [
    {
     "name": "stdout",
     "output_type": "stream",
     "text": [
      "1 chicken tandori\n",
      "2 phantom pizza\n",
      "3 chicken fajita\n"
     ]
    }
   ],
   "source": [
    "pizza_list=[\"chicken tandori pizza\",\"phantom pizza flavoure\",\"chicken fajita pizza\"]\n",
    "num=1\n",
    "for i in pizza_list:\n",
    "    print(f\"{num} {i}\")\n",
    "    num+=1"
   ]
  },
  {
   "cell_type": "code",
   "execution_count": null,
   "metadata": {},
   "outputs": [],
   "source": []
  },
  {
   "cell_type": "code",
   "execution_count": null,
   "metadata": {},
   "outputs": [],
   "source": []
  },
  {
   "cell_type": "markdown",
   "metadata": {},
   "source": [
    "# Q2"
   ]
  },
  {
   "cell_type": "markdown",
   "metadata": {},
   "source": [
    "Start with your last question , Modify your for loop to print a sentence using the name of the pizza\n",
    "instead of printing just the name of the pizza. For each pizza you should\n",
    "have one line of output containing a simple statement like I like pepperoni\n",
    "pizza."
   ]
  },
  {
   "cell_type": "code",
   "execution_count": 14,
   "metadata": {},
   "outputs": [
    {
     "name": "stdout",
     "output_type": "stream",
     "text": [
      "1 i like chicken tandori\n",
      "2 i like phantom pizza\n",
      "3 i like chicken fajita\n"
     ]
    }
   ],
   "source": [
    "pizza_list=[\"chicken tandori pizza\",\"phantom pizza flavoure\",\"chicken fajita pizza\"]\n",
    "num=1\n",
    "for i in pizza_list:\n",
    "    print(f\"{num} i like {i}\")\n",
    "    num+=1"
   ]
  },
  {
   "cell_type": "code",
   "execution_count": null,
   "metadata": {},
   "outputs": [],
   "source": []
  },
  {
   "cell_type": "code",
   "execution_count": null,
   "metadata": {},
   "outputs": [],
   "source": []
  },
  {
   "cell_type": "markdown",
   "metadata": {},
   "source": [
    "# Q3:"
   ]
  },
  {
   "cell_type": "markdown",
   "metadata": {},
   "source": [
    "Use a for loop to print the numbers from 1 to 20,\n",
    "inclusive."
   ]
  },
  {
   "cell_type": "code",
   "execution_count": 19,
   "metadata": {},
   "outputs": [
    {
     "name": "stdout",
     "output_type": "stream",
     "text": [
      "1\n",
      "2\n",
      "3\n",
      "4\n",
      "5\n",
      "6\n",
      "7\n",
      "8\n",
      "9\n",
      "10\n",
      "11\n",
      "12\n",
      "13\n",
      "14\n",
      "15\n",
      "16\n",
      "17\n",
      "18\n",
      "19\n",
      "20\n"
     ]
    }
   ],
   "source": [
    "for i in range(1,21,1):\n",
    "    print(i)"
   ]
  },
  {
   "cell_type": "code",
   "execution_count": null,
   "metadata": {},
   "outputs": [],
   "source": []
  },
  {
   "cell_type": "code",
   "execution_count": null,
   "metadata": {},
   "outputs": [],
   "source": []
  },
  {
   "cell_type": "markdown",
   "metadata": {},
   "source": [
    "# Q4:"
   ]
  },
  {
   "cell_type": "markdown",
   "metadata": {},
   "source": [
    "Use the third argument of the range() function to make a list\n",
    "of the odd numbers from 1 to 20. Use a for loop to print each number."
   ]
  },
  {
   "cell_type": "code",
   "execution_count": 20,
   "metadata": {},
   "outputs": [
    {
     "name": "stdout",
     "output_type": "stream",
     "text": [
      "1\n",
      "3\n",
      "5\n",
      "7\n",
      "9\n",
      "11\n",
      "13\n",
      "15\n",
      "17\n",
      "19\n"
     ]
    }
   ],
   "source": [
    "for i in range(1,20,2):\n",
    "    print(i)"
   ]
  },
  {
   "cell_type": "code",
   "execution_count": null,
   "metadata": {},
   "outputs": [],
   "source": []
  },
  {
   "cell_type": "code",
   "execution_count": null,
   "metadata": {},
   "outputs": [],
   "source": []
  },
  {
   "cell_type": "markdown",
   "metadata": {},
   "source": [
    "# Q5:"
   ]
  },
  {
   "cell_type": "markdown",
   "metadata": {},
   "source": [
    "Make a list of the multiples of 3 from 3 to 30. Use a for loop to\n",
    "print the numbers in your list."
   ]
  },
  {
   "cell_type": "code",
   "execution_count": 36,
   "metadata": {},
   "outputs": [
    {
     "name": "stdout",
     "output_type": "stream",
     "text": [
      "[3, 6, 9, 12, 15, 18, 21, 24, 27, 30]\n"
     ]
    }
   ],
   "source": [
    "list=[]\n",
    "for i in range(1,31):\n",
    "    if i%3==0:\n",
    "        list.append(i)\n",
    "print(list)\n",
    "    "
   ]
  },
  {
   "cell_type": "code",
   "execution_count": null,
   "metadata": {},
   "outputs": [],
   "source": []
  },
  {
   "cell_type": "code",
   "execution_count": null,
   "metadata": {},
   "outputs": [],
   "source": []
  },
  {
   "cell_type": "code",
   "execution_count": null,
   "metadata": {},
   "outputs": [],
   "source": []
  },
  {
   "cell_type": "markdown",
   "metadata": {},
   "source": [
    "# Q6:"
   ]
  },
  {
   "cell_type": "markdown",
   "metadata": {},
   "source": [
    "A number raised to the third power is called a cube. For example,\n",
    "the cube of 2 is written as 2**3 in Python. Make a list of the first 10 cubes (that\n",
    "is, the cube of each integer from 1 through 10), and use a for loop to print out\n",
    "the value of each cube"
   ]
  },
  {
   "cell_type": "code",
   "execution_count": 38,
   "metadata": {},
   "outputs": [
    {
     "name": "stdout",
     "output_type": "stream",
     "text": [
      "1\n",
      "8\n",
      "27\n",
      "64\n",
      "125\n",
      "216\n",
      "343\n",
      "512\n",
      "729\n"
     ]
    }
   ],
   "source": [
    "for i in range(1,10):\n",
    "    print(i**3)"
   ]
  },
  {
   "cell_type": "code",
   "execution_count": null,
   "metadata": {},
   "outputs": [],
   "source": []
  },
  {
   "cell_type": "code",
   "execution_count": null,
   "metadata": {},
   "outputs": [],
   "source": []
  },
  {
   "cell_type": "code",
   "execution_count": null,
   "metadata": {},
   "outputs": [],
   "source": []
  },
  {
   "cell_type": "markdown",
   "metadata": {},
   "source": [
    "# Q7:"
   ]
  },
  {
   "cell_type": "markdown",
   "metadata": {},
   "source": [
    "###### Make a python program that conatains your nine favourite dishes in a list called foods.\n",
    "\n",
    "###### Print the message, The first three items in the list are:. \n",
    "###### Then use a slice to print the first three items from that program’s list.\n",
    "\n",
    "###### Print the message, Three items from the middle of the list are:\n",
    "###### Use a slice to print three items from the middle of the list.\n",
    "\n",
    "###### Print the message, The last three items in the list are:\n",
    "###### Use a slice to print the last three items in the list."
   ]
  },
  {
   "cell_type": "code",
   "execution_count": 69,
   "metadata": {},
   "outputs": [
    {
     "name": "stdout",
     "output_type": "stream",
     "text": [
      "First three items in the list are ['Biryani', 'Qourma', 'Pulao']\n",
      "Middle three items in the list are ['Nihari', 'Chicken Karahi', 'Balti Ghosht'] \n",
      "Last three items in the list are ['9 rattan', 'Mutton Qeema', 'Daal Chawal'] \n"
     ]
    }
   ],
   "source": [
    "foods=['Biryani','Qourma','Pulao','Nihari','Chicken Karahi','Balti Ghosht','9 rattan','Mutton Qeema','Daal Chawal']\n",
    "print(f\"First three items in the list are {foods[0:3]}\\nMiddle three items in the list are {foods[3:6]} \\nLast three items in the list are {foods[6:9]} \")"
   ]
  },
  {
   "cell_type": "code",
   "execution_count": null,
   "metadata": {},
   "outputs": [],
   "source": []
  },
  {
   "cell_type": "code",
   "execution_count": null,
   "metadata": {},
   "outputs": [],
   "source": []
  },
  {
   "cell_type": "code",
   "execution_count": null,
   "metadata": {},
   "outputs": [],
   "source": []
  },
  {
   "cell_type": "code",
   "execution_count": null,
   "metadata": {},
   "outputs": [],
   "source": []
  },
  {
   "cell_type": "code",
   "execution_count": null,
   "metadata": {},
   "outputs": [],
   "source": []
  },
  {
   "cell_type": "code",
   "execution_count": null,
   "metadata": {},
   "outputs": [],
   "source": []
  },
  {
   "cell_type": "markdown",
   "metadata": {},
   "source": [
    "# Q8:"
   ]
  },
  {
   "cell_type": "markdown",
   "metadata": {},
   "source": [
    "### Start with your program from your last Question8.\n",
    "###### Make a copy of the list of foods, and call it friend_foods.\n",
    "###### Then, do the following:\n",
    "######    Add a new dish to the original list.\n",
    "######    Add a different dish to the list friend_foodss.\n",
    "######    Prove that you have two separate lists. \n",
    "###### Print the message, My favorite pizzas are: and then use a for loop to print the first list. \n",
    "###### Print the message,\n",
    "###### My friend’s favorite foods are:, and then use a for loop to print the second list.\n",
    "    \n",
    "##### NOTE: Make sure each new dish is stored in the appropriate list."
   ]
  },
  {
   "cell_type": "code",
   "execution_count": 71,
   "metadata": {},
   "outputs": [
    {
     "name": "stdout",
     "output_type": "stream",
     "text": [
      "list two :['Biryani', 'Qourma', 'Pulao', 'Nihari', 'Chicken Karahi', 'Balti Ghosht', '9 rattan', 'Mutton Qeema', 'Daal Chawal']\n"
     ]
    }
   ],
   "source": [
    "friends_foods=[]\n",
    "friends_foods=foods.copy()\n",
    "print(f\"list two :{friends_foods}\")"
   ]
  },
  {
   "cell_type": "code",
   "execution_count": 72,
   "metadata": {},
   "outputs": [
    {
     "name": "stdout",
     "output_type": "stream",
     "text": [
      "list one :['Biryani', 'Qourma', 'Pulao', 'Nihari', 'Chicken Karahi', 'Balti Ghosht', '9 rattan', 'Mutton Qeema', 'Daal Chawal']\n"
     ]
    }
   ],
   "source": [
    "print(f\"list one :{foods}\")\n"
   ]
  },
  {
   "cell_type": "code",
   "execution_count": 75,
   "metadata": {},
   "outputs": [
    {
     "name": "stdout",
     "output_type": "stream",
     "text": [
      "list one with append:['Biryani', 'Qourma', 'Pulao', 'Nihari', 'Chicken Karahi', 'Balti Ghosht', '9 rattan', 'Mutton Qeema', 'Daal Chawal', 'Kunna']\n"
     ]
    }
   ],
   "source": [
    "foods.append('Kunna')\n",
    "print(f\"list one with append:{foods}\")"
   ]
  },
  {
   "cell_type": "code",
   "execution_count": 76,
   "metadata": {},
   "outputs": [
    {
     "name": "stdout",
     "output_type": "stream",
     "text": [
      "list two with append:['Biryani', 'Qourma', 'Pulao', 'Nihari', 'Chicken Karahi', 'Balti Ghosht', '9 rattan', 'Mutton Qeema', 'Daal Chawal', 'Butter Chicken']\n"
     ]
    }
   ],
   "source": [
    "friends_foods.append('Butter Chicken')\n",
    "print(f\"list two with append:{friends_foods}\")"
   ]
  },
  {
   "cell_type": "code",
   "execution_count": 82,
   "metadata": {},
   "outputs": [
    {
     "name": "stdout",
     "output_type": "stream",
     "text": [
      "My favourite dishes are\n",
      "1 : Biryani\n",
      "2 : Qourma\n",
      "3 : Pulao\n",
      "4 : Nihari\n",
      "5 : Chicken Karahi\n",
      "6 : Balti Ghosht\n",
      "7 : 9 rattan\n",
      "8 : Mutton Qeema\n",
      "9 : Daal Chawal\n",
      "10 : Kunna\n"
     ]
    }
   ],
   "source": [
    "num=1\n",
    "print(\"My favourite dishes are\")\n",
    "for i in foods:\n",
    "    print(f\"{num} : {i}\")\n",
    "    num+=1"
   ]
  },
  {
   "cell_type": "code",
   "execution_count": 83,
   "metadata": {},
   "outputs": [
    {
     "name": "stdout",
     "output_type": "stream",
     "text": [
      "My frien's favourite dishes are\n",
      "1 : Biryani\n",
      "2 : Qourma\n",
      "3 : Pulao\n",
      "4 : Nihari\n",
      "5 : Chicken Karahi\n",
      "6 : Balti Ghosht\n",
      "7 : 9 rattan\n",
      "8 : Mutton Qeema\n",
      "9 : Daal Chawal\n",
      "10 : Butter Chicken\n"
     ]
    }
   ],
   "source": [
    "num=1\n",
    "print(\"My frien's favourite dishes are\")\n",
    "for i in friends_foods:\n",
    "    print(f\"{num} : {i}\")\n",
    "    num+=1"
   ]
  },
  {
   "cell_type": "code",
   "execution_count": 29,
   "metadata": {},
   "outputs": [
    {
     "name": "stdout",
     "output_type": "stream",
     "text": [
      "enter a number5\n",
      "number now 1 total is : 1\n",
      "number now 2 total is : 3\n",
      "number now 3 total is : 6\n",
      "number now 4 total is : 10\n",
      "number now 5 total is : 15\n",
      "total is 15\n"
     ]
    }
   ],
   "source": [
    "num=int(input(\"enter a number\"))\n",
    "sum=0\n",
    "i=1\n",
    "while i<=num:\n",
    "      sum=sum+i\n",
    "      print(f\"number now {i} total is : {sum}\")\n",
    "      i=i+1\n",
    "print(f\"total is {sum}\")\n",
    " \n"
   ]
  },
  {
   "cell_type": "markdown",
   "metadata": {},
   "source": [
    "# Q9:"
   ]
  },
  {
   "cell_type": "markdown",
   "metadata": {},
   "source": [
    "Take a user input from console line.Store it in a variable called Alien_color.\n",
    "\n",
    "If the alien’s color is red, print a statement that the player just earned 5 points for shooting the alien.\n",
    "\n",
    "If the alien’s color isn’t green, print a statement that the player just earned 10 points.\n",
    "\n",
    "If the alien's color isn't red or green , print a statment :, Alien is no more....."
   ]
  },
  {
   "cell_type": "code",
   "execution_count": 89,
   "metadata": {},
   "outputs": [
    {
     "name": "stdout",
     "output_type": "stream",
     "text": [
      "enter a color:BVKJ\n",
      "alien is no more\n"
     ]
    }
   ],
   "source": [
    "Alien_color=input(\"enter a color:\")\n",
    "if Alien_color.lower() == \"red\":\n",
    "    print(\"player earned 5 points\")\n",
    "elif Alien_color.lower() == \"green\":\n",
    "    print(\"player earned 10 points\")\n",
    "else:\n",
    "    print(\"alien is no more\")"
   ]
  },
  {
   "cell_type": "code",
   "execution_count": null,
   "metadata": {},
   "outputs": [],
   "source": []
  },
  {
   "cell_type": "code",
   "execution_count": null,
   "metadata": {},
   "outputs": [],
   "source": []
  },
  {
   "cell_type": "code",
   "execution_count": null,
   "metadata": {},
   "outputs": [],
   "source": []
  },
  {
   "cell_type": "markdown",
   "metadata": {},
   "source": [
    "# Q10:"
   ]
  },
  {
   "cell_type": "markdown",
   "metadata": {},
   "source": [
    "Write an if-elif-else chain that determines a person’s\n",
    "stage of life. Set a value for the variable age, and then:\n",
    "    \n",
    "•\t If the person is less than 2 years old, print a message that the person is a baby.\n",
    "\n",
    "•\t If the person is at least 2 years old but less than 4, print a message that the person is a toddler.\n",
    "\n",
    "•\t If the person is at least 4 years old but less than 13, print a message that the person is a kid.\n",
    "\n",
    "•\t If the person is at least 13 years old but less than 20, print a message that the person is a teenager.\n",
    "\n",
    "•\t If the person is at least 20 years old but less than 65, print a message that the person is an adult.\n",
    "\n",
    "•\t If the person is age 65 or older, print a message that the person is an elder."
   ]
  },
  {
   "cell_type": "code",
   "execution_count": 123,
   "metadata": {},
   "outputs": [
    {
     "name": "stdout",
     "output_type": "stream",
     "text": [
      "enter age:4\n",
      "Hi Kid\n"
     ]
    }
   ],
   "source": [
    "age=float(input('enter age:'))\n",
    "if (age <2):\n",
    "    print('Hello Baby')\n",
    "elif (age <= 2 or age < 4):\n",
    "    print('Hi Todddler')\n",
    "elif (age <= 4 or age <13):\n",
    "    print('Hi Kid')\n",
    "elif (age <= 13 or age <20):\n",
    "    print('Hi teenage')\n",
    "elif (age <=20 or age <65):\n",
    "    print('An Adult person')\n",
    "else:\n",
    "    print('An Elder person')"
   ]
  },
  {
   "cell_type": "code",
   "execution_count": null,
   "metadata": {},
   "outputs": [],
   "source": []
  },
  {
   "cell_type": "code",
   "execution_count": null,
   "metadata": {},
   "outputs": [],
   "source": []
  },
  {
   "cell_type": "code",
   "execution_count": null,
   "metadata": {},
   "outputs": [],
   "source": []
  },
  {
   "cell_type": "code",
   "execution_count": null,
   "metadata": {},
   "outputs": [],
   "source": []
  },
  {
   "cell_type": "code",
   "execution_count": null,
   "metadata": {},
   "outputs": [],
   "source": []
  },
  {
   "cell_type": "markdown",
   "metadata": {},
   "source": [
    "# Q11:"
   ]
  },
  {
   "cell_type": "markdown",
   "metadata": {},
   "source": [
    "Do the following to create a program that simulates how websites ensure that everyone has a unique username.\n",
    "\n",
    "•\t Make a list of five or more usernames called current_users.\n",
    "\n",
    "•\t Make another list of five usernames called new_users. \n",
    "Make sure one or two of the new usernames are also in the current_users list.\n",
    "\n",
    "•\t Loop through the new_users list to see if each new username has already been used. \n",
    "If it has, print a message that the person will need to enter a new username. \n",
    "If a username has not been used, print a message saying that the username is available.\n",
    "\n",
    "•\t Make sure your comparison is case insensitive. If 'John' has been used, 'JOHN' should not be accepted."
   ]
  },
  {
   "cell_type": "code",
   "execution_count": 138,
   "metadata": {},
   "outputs": [
    {
     "name": "stdout",
     "output_type": "stream",
     "text": [
      "\n",
      "AHSAN , This name is already taken\n",
      "Please change your name......\n",
      "\n",
      "BISMA Your name is added to database...\n",
      "\n",
      "HAMZA , This name is already taken\n",
      "Please change your name......\n",
      "\n",
      "SHAHZAD Your name is added to database...\n",
      "\n",
      "ALI , This name is already taken\n",
      "Please change your name......\n"
     ]
    }
   ],
   "source": [
    "current_user = ['WAFA' , 'ALI' , 'UMER' , 'HAMZA' , 'AHSAN']\n",
    "new_user = ['ahsan' , 'bisma' , 'hamza' , 'shahzad' , 'ali']\n",
    "for new_users in new_user:\n",
    "  names = new_users.upper()\n",
    "  if names in current_user:\n",
    "        print(f\"\\n{names} , This name is already taken\\nPlease change your name......\")\n",
    "  else:\n",
    "     print(f\"\\n{names} Your name is added to database...\")"
   ]
  },
  {
   "cell_type": "markdown",
   "metadata": {},
   "source": [
    "# Q12:"
   ]
  },
  {
   "cell_type": "markdown",
   "metadata": {},
   "source": [
    "Use a dictionary to store information about a person you know.\n",
    "Store their first name, last name, age, and the city in which they live. \n",
    "You should have keys such as first_name, last_name, age, and city. \n",
    "Print each piece of information stored in your dictionary"
   ]
  },
  {
   "cell_type": "code",
   "execution_count": 85,
   "metadata": {},
   "outputs": [
    {
     "name": "stdout",
     "output_type": "stream",
     "text": [
      "{'first_name': 'Ali', 'last_name': 'Ahmed', 'age': '20', 'city': 'Karachi'}\n"
     ]
    }
   ],
   "source": [
    "dict={'first_name':'Ali','last_name':'Ahmed','age':'20','city':'Karachi'}\n",
    "print(dict)"
   ]
  },
  {
   "cell_type": "code",
   "execution_count": 94,
   "metadata": {},
   "outputs": [
    {
     "name": "stdout",
     "output_type": "stream",
     "text": [
      "Values in Dictionary are:\n",
      "Ali\n",
      "Ahmed\n",
      "20\n",
      "Karachi\n"
     ]
    }
   ],
   "source": [
    "print(\"Values in Dictionary are:\") \n",
    "for i in dict.values():\n",
    "    print(f\"{i}\")"
   ]
  },
  {
   "cell_type": "code",
   "execution_count": 96,
   "metadata": {},
   "outputs": [
    {
     "name": "stdout",
     "output_type": "stream",
     "text": [
      "keys in Dictionary are:\n",
      "first_name\n",
      "last_name\n",
      "age\n",
      "city\n"
     ]
    }
   ],
   "source": [
    "print(\"keys in Dictionary are:\") \n",
    "for i in dict:\n",
    "    print(f\"{i}\")"
   ]
  },
  {
   "cell_type": "code",
   "execution_count": 97,
   "metadata": {},
   "outputs": [
    {
     "name": "stdout",
     "output_type": "stream",
     "text": [
      "keys and Values in Dictionary are:\n",
      "('first_name', 'Ali')\n",
      "('last_name', 'Ahmed')\n",
      "('age', '20')\n",
      "('city', 'Karachi')\n"
     ]
    }
   ],
   "source": [
    "print(\"keys and Values in Dictionary are:\") \n",
    "for i in dict.items():\n",
    "    print(f\"{i}\")"
   ]
  },
  {
   "cell_type": "markdown",
   "metadata": {},
   "source": [
    "# Q13:"
   ]
  },
  {
   "cell_type": "markdown",
   "metadata": {},
   "source": [
    "Starts with your last question 12 , loop through the dictionary’s keys and values.\n",
    "When you’re sure that your loop works, add five more Python terms to your\n",
    "dictionary . When you run your program again, these new words and meanings\n",
    "should automatically be included in the output."
   ]
  },
  {
   "cell_type": "code",
   "execution_count": 98,
   "metadata": {},
   "outputs": [],
   "source": [
    "dict['Qualification']=['Matriculation','Inter-PreMedical','Bachelors']\n",
    "dict['Languages']=['Urdu','English']\n",
    "dict['Religion']='Islam'\n",
    "dict['Fav-Food']=['Fast food','Chinese','Italian']"
   ]
  },
  {
   "cell_type": "code",
   "execution_count": 100,
   "metadata": {},
   "outputs": [
    {
     "name": "stdout",
     "output_type": "stream",
     "text": [
      "Updated keys and Values in Dictionary are:\n",
      "key is first_name and value is Ali\n",
      "key is last_name and value is Ahmed\n",
      "key is age and value is 20\n",
      "key is city and value is Karachi\n",
      "key is Qualification and value is ['Matriculation', 'Inter-PreMedical', 'Bachelors']\n",
      "key is Languages and value is ['Urdu', 'English']\n",
      "key is Religion and value is Islam\n",
      "key is Fav-Food and value is ['Fast food', 'Chinese', 'Italian']\n"
     ]
    }
   ],
   "source": [
    "print(\"Updated keys and Values in Dictionary are:\") \n",
    "for i,j in dict.items():\n",
    "    print(f\"key is {i} and value is {j}\")\n",
    "    "
   ]
  },
  {
   "cell_type": "code",
   "execution_count": null,
   "metadata": {},
   "outputs": [],
   "source": []
  },
  {
   "cell_type": "code",
   "execution_count": null,
   "metadata": {},
   "outputs": [],
   "source": []
  },
  {
   "cell_type": "code",
   "execution_count": null,
   "metadata": {},
   "outputs": [],
   "source": []
  },
  {
   "cell_type": "markdown",
   "metadata": {},
   "source": [
    "# Q14:"
   ]
  },
  {
   "cell_type": "markdown",
   "metadata": {},
   "source": [
    "Make a dictionary containing three major rivers and the country\n",
    "each river runs through. One key-value pair might be 'nile': 'egypt'.\n",
    "    \n",
    "    \n",
    "•\t Use a loop to print a sentence about each river, such as The Nile runs\n",
    "through Egypt.\n",
    "\n",
    "NOTE: use upper case through keys and values."
   ]
  },
  {
   "cell_type": "code",
   "execution_count": 102,
   "metadata": {},
   "outputs": [],
   "source": [
    "rivers={'Nile':'Egypt','India':'Jhelum','Pakistan':'Ravi'}"
   ]
  },
  {
   "cell_type": "code",
   "execution_count": 104,
   "metadata": {},
   "outputs": [
    {
     "name": "stdout",
     "output_type": "stream",
     "text": [
      "River Egypt flows in country Nile\n",
      "River Jhelum flows in country India\n",
      "River Ravi flows in country Pakistan\n"
     ]
    }
   ],
   "source": [
    "for key,value in rivers.items():\n",
    "    print(f\"River {value} flows in country {key}\")"
   ]
  },
  {
   "cell_type": "code",
   "execution_count": null,
   "metadata": {},
   "outputs": [],
   "source": []
  },
  {
   "cell_type": "markdown",
   "metadata": {},
   "source": [
    "# Q15:"
   ]
  },
  {
   "cell_type": "markdown",
   "metadata": {},
   "source": [
    "Make several dictionaries, where the name of each dictionary is the\n",
    "name of a pet. In each dictionary, include the kind of animal and the owner’s\n",
    "name. Store these dictionaries in a list called pets. Next, loop through your list\n",
    "and as you do print everything you know about each pet."
   ]
  },
  {
   "cell_type": "code",
   "execution_count": 158,
   "metadata": {},
   "outputs": [
    {
     "name": "stdout",
     "output_type": "stream",
     "text": [
      "{'CAT': 'HERMAIN'}\n",
      "{'DOG': 'HIBA'}\n",
      "{'PARROT': 'RAFAY'}\n"
     ]
    }
   ],
   "source": [
    "PET1={'CAT':'HERMAIN'}\n",
    "PET2={'DOG':'HIBA'}\n",
    "PET3={'PARROT':'RAFAY'}\n",
    "PETS=[PET1,PET2,PET3]\n",
    "for i in PETS:\n",
    "    print(i)\n"
   ]
  }
 ],
 "metadata": {
  "kernelspec": {
   "display_name": "Python 3",
   "language": "python",
   "name": "python3"
  },
  "language_info": {
   "codemirror_mode": {
    "name": "ipython",
    "version": 3
   },
   "file_extension": ".py",
   "mimetype": "text/x-python",
   "name": "python",
   "nbconvert_exporter": "python",
   "pygments_lexer": "ipython3",
   "version": "3.7.3"
  }
 },
 "nbformat": 4,
 "nbformat_minor": 2
}
